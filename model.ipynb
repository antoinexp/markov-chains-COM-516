{
  "nbformat": 4,
  "nbformat_minor": 0,
  "metadata": {
    "colab": {
      "name": "model.ipynb",
      "provenance": [],
      "collapsed_sections": [],
      "authorship_tag": "ABX9TyO0ujVKseKcFqGeH+yA5fU3",
      "include_colab_link": true
    },
    "kernelspec": {
      "name": "python3",
      "display_name": "Python 3"
    }
  },
  "cells": [
    {
      "cell_type": "markdown",
      "metadata": {
        "id": "view-in-github",
        "colab_type": "text"
      },
      "source": [
        "<a href=\"https://colab.research.google.com/github/antoinexp/markov-chains-COM-516/blob/main/model.ipynb\" target=\"_parent\"><img src=\"https://colab.research.google.com/assets/colab-badge.svg\" alt=\"Open In Colab\"/></a>"
      ]
    },
    {
      "cell_type": "code",
      "metadata": {
        "id": "BMV_GyHTe-A5"
      },
      "source": [
        "import scipy.stats as st\n",
        "import pandas as pd\n",
        "import numpy as np\n",
        "import scipy as sp\n",
        "import matplotlib.pyplot as plt"
      ],
      "execution_count": 2,
      "outputs": []
    },
    {
      "cell_type": "markdown",
      "metadata": {
        "id": "q_Kco86_fDPA"
      },
      "source": [
        "# Uniform distribution ($\\mathcal U([0,1])$)"
      ]
    },
    {
      "cell_type": "code",
      "metadata": {
        "id": "gZmvCOWse-93"
      },
      "source": [
        "def G1():\n",
        "  N = 100\n",
        "  positions = st.uniform().rvs((N,2))\n",
        "  population = st.uniform().rvs((N,))\n",
        "  return pd.DataFrame({\n",
        "      \"population\": population, \n",
        "      \"coordinates_x\": positions[:,0], \n",
        "      \"coordinates_y\": positions[:,1]}\n",
        "  )"
      ],
      "execution_count": 3,
      "outputs": []
    },
    {
      "cell_type": "code",
      "metadata": {
        "id": "q12phSZafN6P",
        "outputId": "fd2a5627-0ae0-45f2-ab3c-8890f89a2157",
        "colab": {
          "base_uri": "https://localhost:8080/",
          "height": 198
        }
      },
      "source": [
        "G1().head()"
      ],
      "execution_count": 4,
      "outputs": [
        {
          "output_type": "execute_result",
          "data": {
            "text/html": [
              "<div>\n",
              "<style scoped>\n",
              "    .dataframe tbody tr th:only-of-type {\n",
              "        vertical-align: middle;\n",
              "    }\n",
              "\n",
              "    .dataframe tbody tr th {\n",
              "        vertical-align: top;\n",
              "    }\n",
              "\n",
              "    .dataframe thead th {\n",
              "        text-align: right;\n",
              "    }\n",
              "</style>\n",
              "<table border=\"1\" class=\"dataframe\">\n",
              "  <thead>\n",
              "    <tr style=\"text-align: right;\">\n",
              "      <th></th>\n",
              "      <th>population</th>\n",
              "      <th>coordinates_x</th>\n",
              "      <th>coordinates_y</th>\n",
              "    </tr>\n",
              "  </thead>\n",
              "  <tbody>\n",
              "    <tr>\n",
              "      <th>0</th>\n",
              "      <td>0.184264</td>\n",
              "      <td>0.832292</td>\n",
              "      <td>0.744425</td>\n",
              "    </tr>\n",
              "    <tr>\n",
              "      <th>1</th>\n",
              "      <td>0.612248</td>\n",
              "      <td>0.599899</td>\n",
              "      <td>0.151195</td>\n",
              "    </tr>\n",
              "    <tr>\n",
              "      <th>2</th>\n",
              "      <td>0.692147</td>\n",
              "      <td>0.546121</td>\n",
              "      <td>0.429728</td>\n",
              "    </tr>\n",
              "    <tr>\n",
              "      <th>3</th>\n",
              "      <td>0.858617</td>\n",
              "      <td>0.285748</td>\n",
              "      <td>0.424666</td>\n",
              "    </tr>\n",
              "    <tr>\n",
              "      <th>4</th>\n",
              "      <td>0.145023</td>\n",
              "      <td>0.743062</td>\n",
              "      <td>0.598329</td>\n",
              "    </tr>\n",
              "  </tbody>\n",
              "</table>\n",
              "</div>"
            ],
            "text/plain": [
              "   population  coordinates_x  coordinates_y\n",
              "0    0.184264       0.832292       0.744425\n",
              "1    0.612248       0.599899       0.151195\n",
              "2    0.692147       0.546121       0.429728\n",
              "3    0.858617       0.285748       0.424666\n",
              "4    0.145023       0.743062       0.598329"
            ]
          },
          "metadata": {
            "tags": []
          },
          "execution_count": 4
        }
      ]
    },
    {
      "cell_type": "markdown",
      "metadata": {
        "id": "JgzoeYOafZSM"
      },
      "source": [
        "# log-normal distribution"
      ]
    },
    {
      "cell_type": "code",
      "metadata": {
        "id": "nszpfgZkfROG"
      },
      "source": [
        "def G2():\n",
        "  N = 1000\n",
        "  positions = st.uniform().rvs((N,2))\n",
        "  population = np.exp(st.norm(-5.6, 1.3).rvs((N,)))\n",
        "  return pd.DataFrame({\n",
        "      \"population\": population, \n",
        "      \"coordinates_x\": positions[:,0], \n",
        "      \"coordinates_y\": positions[:,1]}\n",
        "  )"
      ],
      "execution_count": 6,
      "outputs": []
    },
    {
      "cell_type": "code",
      "metadata": {
        "id": "sLrnALgvfjq1",
        "outputId": "f8bd3f82-9414-4e3d-f1d0-479b262a75db",
        "colab": {
          "base_uri": "https://localhost:8080/",
          "height": 198
        }
      },
      "source": [
        "G2().head()"
      ],
      "execution_count": 7,
      "outputs": [
        {
          "output_type": "execute_result",
          "data": {
            "text/html": [
              "<div>\n",
              "<style scoped>\n",
              "    .dataframe tbody tr th:only-of-type {\n",
              "        vertical-align: middle;\n",
              "    }\n",
              "\n",
              "    .dataframe tbody tr th {\n",
              "        vertical-align: top;\n",
              "    }\n",
              "\n",
              "    .dataframe thead th {\n",
              "        text-align: right;\n",
              "    }\n",
              "</style>\n",
              "<table border=\"1\" class=\"dataframe\">\n",
              "  <thead>\n",
              "    <tr style=\"text-align: right;\">\n",
              "      <th></th>\n",
              "      <th>population</th>\n",
              "      <th>coordinates_x</th>\n",
              "      <th>coordinates_y</th>\n",
              "    </tr>\n",
              "  </thead>\n",
              "  <tbody>\n",
              "    <tr>\n",
              "      <th>0</th>\n",
              "      <td>0.018551</td>\n",
              "      <td>0.648263</td>\n",
              "      <td>0.953797</td>\n",
              "    </tr>\n",
              "    <tr>\n",
              "      <th>1</th>\n",
              "      <td>0.004296</td>\n",
              "      <td>0.611118</td>\n",
              "      <td>0.106748</td>\n",
              "    </tr>\n",
              "    <tr>\n",
              "      <th>2</th>\n",
              "      <td>0.000528</td>\n",
              "      <td>0.414020</td>\n",
              "      <td>0.073025</td>\n",
              "    </tr>\n",
              "    <tr>\n",
              "      <th>3</th>\n",
              "      <td>0.014830</td>\n",
              "      <td>0.296834</td>\n",
              "      <td>0.381163</td>\n",
              "    </tr>\n",
              "    <tr>\n",
              "      <th>4</th>\n",
              "      <td>0.003364</td>\n",
              "      <td>0.541590</td>\n",
              "      <td>0.100429</td>\n",
              "    </tr>\n",
              "  </tbody>\n",
              "</table>\n",
              "</div>"
            ],
            "text/plain": [
              "   population  coordinates_x  coordinates_y\n",
              "0    0.018551       0.648263       0.953797\n",
              "1    0.004296       0.611118       0.106748\n",
              "2    0.000528       0.414020       0.073025\n",
              "3    0.014830       0.296834       0.381163\n",
              "4    0.003364       0.541590       0.100429"
            ]
          },
          "metadata": {
            "tags": []
          },
          "execution_count": 7
        }
      ]
    },
    {
      "cell_type": "code",
      "metadata": {
        "id": "KmY6GLI5lJ1g"
      },
      "source": [
        ""
      ],
      "execution_count": null,
      "outputs": []
    }
  ]
}